{
 "cells": [
  {
   "cell_type": "code",
   "execution_count": null,
   "id": "7ec78f84-1e5e-44fc-ae10-5e17bf87dd31",
   "metadata": {},
   "outputs": [],
   "source": [
    "%config InlineBackend.figure_format='retina'\n",
    "\n",
    "from functools import partial\n",
    "from json import load\n",
    "from multiprocessing import Pool\n",
    "from pathlib import Path\n",
    "\n",
    "import logging\n",
    "logging.basicConfig(level=logging.WARNING)\n",
    "\n",
    "import matplotlib.pyplot as plt\n",
    "import hvplot.xarray\n",
    "import xarray as xr\n",
    "\n",
    "from process_cris import find_moon_intrusions, cris_wavenumbers\n",
    "\n",
    "N_CPUS = 16"
   ]
  },
  {
   "cell_type": "code",
   "execution_count": null,
   "id": "e4943d98-5561-48d9-8eb5-e8834d84b894",
   "metadata": {},
   "outputs": [],
   "source": [
    "def get_scans_with_maximum(df, fieldofregard=0):\n",
    "    \"\"\"Return list of spectra with maximum in field of regard\"\"\"\n",
    "    return [\n",
    "        df[f\"Rad_{fieldofregard}_{maxind.values[0]}_{maxind.values[1]}\"]\n",
    "        for maxind in df[f\"rad_for{fieldofregard}_maxind\"]\n",
    "    ]"
   ]
  },
  {
   "cell_type": "markdown",
   "id": "9f74a8d6-a65f-47a2-941c-0c37e3a52ff8",
   "metadata": {},
   "source": [
    "# Load CrIS file list"
   ]
  },
  {
   "cell_type": "code",
   "execution_count": null,
   "id": "4b3fe034-f6bd-4491-a21e-eaedd6b0bd2d",
   "metadata": {},
   "outputs": [],
   "source": [
    "with open('cris_picks.json', 'r') as infile:\n",
    "    filelist = load(infile)"
   ]
  },
  {
   "cell_type": "markdown",
   "id": "5611e690-aa6c-4a4e-a4a5-70b616cdf44b",
   "metadata": {},
   "source": [
    "# Find moon intrusions"
   ]
  },
  {
   "cell_type": "code",
   "execution_count": null,
   "id": "ee274472-a77f-4302-8785-0f086af14e76",
   "metadata": {
    "tags": []
   },
   "outputs": [],
   "source": [
    "find_moon_intrusions_partial = partial(find_moon_intrusions,\n",
    "                                       wavelen_id=99,\n",
    "                                       threshold=20)\n",
    "files = [\n",
    "    f\"../SDR_data_npp/{f}/Lunar_fsr_spectra_{f}_npp.nc\" for f in filelist\n",
    "]\n",
    "with Pool(N_CPUS) as pool:\n",
    "    results = pool.map(find_moon_intrusions_partial, files)\n",
    "\n",
    "#%%\n",
    "valid_results = [\n",
    "    r for r in results\n",
    "    if r is not None and \"rad_for0_maxind\" in r and \"rad_for1_maxind\" in r\n",
    "]\n",
    "\n",
    "no_results = [filelist[i] for i, r in enumerate(results) if r is None]\n",
    "print(f\"Files without results: {len(no_results)} out of {len(filelist)}\")\n",
    "\n",
    "#%%\n",
    "max_scans = [\n",
    "    get_scans_with_maximum(df, fieldofregard=0) for df in valid_results\n",
    "]\n",
    "max_scans += [\n",
    "    get_scans_with_maximum(df, fieldofregard=1) for df in valid_results\n",
    "]\n",
    "max_scans = sum(max_scans, [])\n",
    "combined_scans = xr.concat(max_scans, dim=\"scans\").rename(\"combined_scans\")\n",
    "combined_scans.attrs[\n",
    "    \"description\"] = \"Combination of all scans that fulfill selection criteria\"\n",
    "wn = 10000 / cris_wavenumbers()\n",
    "combined_scans = combined_scans.assign_coords(n_Channels=wn)\n",
    "combined_scans.n_Channels.attrs[\"units\"] = \"µm\""
   ]
  },
  {
   "cell_type": "markdown",
   "id": "2c6f4a9d-1b39-4bd0-a3be-5d5b01d4cafa",
   "metadata": {},
   "source": [
    "# Plot mean spectra"
   ]
  },
  {
   "cell_type": "code",
   "execution_count": null,
   "id": "b9f94349-e6d3-4315-b7a6-75fdc05f4426",
   "metadata": {},
   "outputs": [],
   "source": [
    "fig, ax = plt.subplots(figsize=(12,8))\n",
    "combined_scans.mean(dim=\"scans\").sel(n_Channels=slice(9.0, 7.0)).plot(ax=ax)\n",
    "\n",
    "# Point plot to visualize gaps in the frequency grid\n",
    "# combined_scans.mean(dim=\"scans\").sel(n_Channels=slice(10.0, 7.0)).plot(\n",
    "#     ax=ax, marker='.', markersize=0.75, ls='None')\n",
    "\n",
    "fig.savefig(\"mean_scans.pdf\")\n",
    "#combines_scans.to_netcdf(\"combined_scans.nc\")"
   ]
  },
  {
   "cell_type": "code",
   "execution_count": null,
   "id": "163b4a27-3961-4289-82a3-48fbbba25cc2",
   "metadata": {},
   "outputs": [],
   "source": [
    "combined_scans.mean(dim=\"scans\").hvplot(width=1000, height=500)"
   ]
  }
 ],
 "metadata": {
  "kernelspec": {
   "display_name": "Python 3 (based on the module python3/2022.01)",
   "language": "python",
   "name": "python3_2022_01"
  },
  "language_info": {
   "codemirror_mode": {
    "name": "ipython",
    "version": 3
   },
   "file_extension": ".py",
   "mimetype": "text/x-python",
   "name": "python",
   "nbconvert_exporter": "python",
   "pygments_lexer": "ipython3",
   "version": "3.9.9"
  }
 },
 "nbformat": 4,
 "nbformat_minor": 5
}
